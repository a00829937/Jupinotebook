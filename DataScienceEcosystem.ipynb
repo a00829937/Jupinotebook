{
  "nbformat": 4,
  "nbformat_minor": 0,
  "metadata": {
    "colab": {
      "provenance": []
    },
    "kernelspec": {
      "name": "python3",
      "display_name": "Python 3"
    },
    "language_info": {
      "name": "python"
    }
  },
  "cells": [
    {
      "cell_type": "markdown",
      "source": [
        "#Data Science Tools and Ecosystem"
      ],
      "metadata": {
        "id": "hNyEfFPFmnyB"
      }
    },
    {
      "cell_type": "markdown",
      "source": [
        "In this notebook, Data Science Tools and Ecosystem are summarized."
      ],
      "metadata": {
        "id": "KrKy1KLym3es"
      }
    },
    {
      "cell_type": "markdown",
      "source": [
        "Some of the popular languages that Data Scientists use are:\n",
        "\n",
        "1.   R\n",
        "2.   C++\n",
        "3.   Python\n",
        "\n",
        "\n",
        "\n"
      ],
      "metadata": {
        "id": "66p5BPRNnM2F"
      }
    },
    {
      "cell_type": "markdown",
      "source": [
        "Some of the commonly used libraries used by Data Scientists include:\n",
        "\n",
        "1.   TensorFlow\n",
        "2.   NumPy\n",
        "3.   tidyverse"
      ],
      "metadata": {
        "id": "L5KLVzQonlw6"
      }
    },
    {
      "cell_type": "markdown",
      "source": [
        "# Data Science Tools\n",
        "\n",
        "| Tool          |\n",
        "|----------------|\n",
        "| VsCode       | IDE      | Interactive development environment for Python, often used for data analysis and scientific computing. |\n",
        "| Atom       | IDE      | IDE for R programming, popular in statistics and data science. |\n",
        "| Tableau       | Tool     | A powerful data visualization tool used in the Business Intelligence Industry for data analysis. |\n",
        "| Power BI      | Tool     | A business analytics service by Microsoft that provides interactive visualizations and business intelligence capabilities with an interface simple enough for end users to create their own reports and dashboards. |\n"
      ],
      "metadata": {
        "id": "UoV0BZlen8e6"
      }
    },
    {
      "cell_type": "markdown",
      "source": [
        "### Below are a few examples of evaluating arithmetic expressions in Python\n"
      ],
      "metadata": {
        "id": "NU13_xUopD8w"
      }
    },
    {
      "cell_type": "code",
      "source": [
        "#This a simple arithmetic expression to mutiply then add integers.\n",
        "print((3*4)+5)\n"
      ],
      "metadata": {
        "colab": {
          "base_uri": "https://localhost:8080/"
        },
        "id": "Rcs3bvnvoaNY",
        "outputId": "5aaeaf04-6b6e-4bad-baca-9f2391bbc8a4"
      },
      "execution_count": 7,
      "outputs": [
        {
          "output_type": "stream",
          "name": "stdout",
          "text": [
            "17\n"
          ]
        }
      ]
    },
    {
      "cell_type": "code",
      "source": [
        "minutes = 200\n",
        "hours = minutes / 60\n",
        "print(f\"This will convert {minutes} minutes to hours by dividing by 60.\")\n",
        "print(hours)"
      ],
      "metadata": {
        "colab": {
          "base_uri": "https://localhost:8080/"
        },
        "id": "MiXsEa9_pNR3",
        "outputId": "7dd084b9-41b2-4c12-fb26-54b0eea6e5cf"
      },
      "execution_count": 9,
      "outputs": [
        {
          "output_type": "stream",
          "name": "stdout",
          "text": [
            "This will convert 200 minutes to hours by dividing by 60.\n",
            "3.3333333333333335\n"
          ]
        }
      ]
    },
    {
      "cell_type": "markdown",
      "source": [
        "**Objectives:**\n",
        "\n",
        "* List popular data languages.\n",
        "* Do a simple arithmetic expression.\n",
        "* Convert minutes to hours\n",
        "\n"
      ],
      "metadata": {
        "id": "gZTBZWq0pp6f"
      }
    },
    {
      "cell_type": "markdown",
      "source": [
        "## Author\n",
        "Diana Laura López Huerta\n"
      ],
      "metadata": {
        "id": "19huz3wEqIwJ"
      }
    }
  ]
}